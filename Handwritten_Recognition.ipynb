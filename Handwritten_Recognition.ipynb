{
  "nbformat": 4,
  "nbformat_minor": 0,
  "metadata": {
    "colab": {
      "name": "Handwritten Recognition.ipynb",
      "provenance": [],
      "collapsed_sections": [],
      "authorship_tag": "ABX9TyM+R3X2b0WoKs/8zSkdF3nU",
      "include_colab_link": true
    },
    "kernelspec": {
      "name": "python3",
      "display_name": "Python 3"
    },
    "language_info": {
      "name": "python"
    }
  },
  "cells": [
    {
      "cell_type": "markdown",
      "metadata": {
        "id": "view-in-github",
        "colab_type": "text"
      },
      "source": [
        "<a href=\"https://colab.research.google.com/github/rohitrv8922/Recognizing-Handwritten-Digits/blob/main/Handwritten_Recognition.ipynb\" target=\"_parent\"><img src=\"https://colab.research.google.com/assets/colab-badge.svg\" alt=\"Open In Colab\"/></a>"
      ]
    },
    {
      "cell_type": "code",
      "execution_count": 1,
      "metadata": {
        "id": "v67cMKSOvt3L"
      },
      "outputs": [],
      "source": [
        "import numpy as np \n",
        "import pandas as pd \n",
        "import matplotlib.pyplot as plt\n",
        "%matplotlib inline \n",
        "import seaborn as sns \n",
        "import warnings \n",
        "warnings.filterwarnings('ignore')"
      ]
    },
    {
      "cell_type": "markdown",
      "source": [
        "**Import datasets module from sklearn library and load the digits dataset using the load_digits() function.**"
      ],
      "metadata": {
        "id": "F5_h2o8v59cl"
      }
    },
    {
      "cell_type": "code",
      "source": [
        "#importing the dataset\n",
        "from sklearn.datasets import load_digits\n",
        "digits = load_digits()"
      ],
      "metadata": {
        "id": "w-iBHMHJ4tgI"
      },
      "execution_count": 2,
      "outputs": []
    },
    {
      "cell_type": "code",
      "source": [
        "print(digits.DESCR)"
      ],
      "metadata": {
        "colab": {
          "base_uri": "https://localhost:8080/"
        },
        "id": "GzGGG51k6P06",
        "outputId": "324d9ed9-f9dd-4c29-dbd3-c6ae8200c113"
      },
      "execution_count": 3,
      "outputs": [
        {
          "output_type": "stream",
          "name": "stdout",
          "text": [
            ".. _digits_dataset:\n",
            "\n",
            "Optical recognition of handwritten digits dataset\n",
            "--------------------------------------------------\n",
            "\n",
            "**Data Set Characteristics:**\n",
            "\n",
            "    :Number of Instances: 1797\n",
            "    :Number of Attributes: 64\n",
            "    :Attribute Information: 8x8 image of integer pixels in the range 0..16.\n",
            "    :Missing Attribute Values: None\n",
            "    :Creator: E. Alpaydin (alpaydin '@' boun.edu.tr)\n",
            "    :Date: July; 1998\n",
            "\n",
            "This is a copy of the test set of the UCI ML hand-written digits datasets\n",
            "https://archive.ics.uci.edu/ml/datasets/Optical+Recognition+of+Handwritten+Digits\n",
            "\n",
            "The data set contains images of hand-written digits: 10 classes where\n",
            "each class refers to a digit.\n",
            "\n",
            "Preprocessing programs made available by NIST were used to extract\n",
            "normalized bitmaps of handwritten digits from a preprinted form. From a\n",
            "total of 43 people, 30 contributed to the training set and different 13\n",
            "to the test set. 32x32 bitmaps are divided into nonoverlapping blocks of\n",
            "4x4 and the number of on pixels are counted in each block. This generates\n",
            "an input matrix of 8x8 where each element is an integer in the range\n",
            "0..16. This reduces dimensionality and gives invariance to small\n",
            "distortions.\n",
            "\n",
            "For info on NIST preprocessing routines, see M. D. Garris, J. L. Blue, G.\n",
            "T. Candela, D. L. Dimmick, J. Geist, P. J. Grother, S. A. Janet, and C.\n",
            "L. Wilson, NIST Form-Based Handprint Recognition System, NISTIR 5469,\n",
            "1994.\n",
            "\n",
            ".. topic:: References\n",
            "\n",
            "  - C. Kaynak (1995) Methods of Combining Multiple Classifiers and Their\n",
            "    Applications to Handwritten Digit Recognition, MSc Thesis, Institute of\n",
            "    Graduate Studies in Science and Engineering, Bogazici University.\n",
            "  - E. Alpaydin, C. Kaynak (1998) Cascading Classifiers, Kybernetika.\n",
            "  - Ken Tang and Ponnuthurai N. Suganthan and Xi Yao and A. Kai Qin.\n",
            "    Linear dimensionalityreduction using relevance weighted LDA. School of\n",
            "    Electrical and Electronic Engineering Nanyang Technological University.\n",
            "    2005.\n",
            "  - Claudio Gentile. A New Approximate Maximal Margin Classification\n",
            "    Algorithm. NIPS. 2000.\n",
            "\n"
          ]
        }
      ]
    },
    {
      "cell_type": "code",
      "source": [
        "digits.target"
      ],
      "metadata": {
        "colab": {
          "base_uri": "https://localhost:8080/"
        },
        "id": "JnIAeA0W6Wa6",
        "outputId": "94a38e0f-463e-4a0b-d543-69e9b14636e4"
      },
      "execution_count": 4,
      "outputs": [
        {
          "output_type": "execute_result",
          "data": {
            "text/plain": [
              "array([0, 1, 2, ..., 8, 9, 8])"
            ]
          },
          "metadata": {},
          "execution_count": 4
        }
      ]
    },
    {
      "cell_type": "code",
      "source": [
        "digits.data.shape"
      ],
      "metadata": {
        "colab": {
          "base_uri": "https://localhost:8080/"
        },
        "id": "_5KCEd9E6aXA",
        "outputId": "ff4be694-3a9e-47c0-fb38-a7730fd630b4"
      },
      "execution_count": 5,
      "outputs": [
        {
          "output_type": "execute_result",
          "data": {
            "text/plain": [
              "(1797, 64)"
            ]
          },
          "metadata": {},
          "execution_count": 5
        }
      ]
    },
    {
      "cell_type": "code",
      "source": [
        "digits.images[0]"
      ],
      "metadata": {
        "colab": {
          "base_uri": "https://localhost:8080/"
        },
        "id": "qNhQAJ3_6dyp",
        "outputId": "95e08ae9-045a-48c8-ca4a-81d064f4fe1a"
      },
      "execution_count": 6,
      "outputs": [
        {
          "output_type": "execute_result",
          "data": {
            "text/plain": [
              "array([[ 0.,  0.,  5., 13.,  9.,  1.,  0.,  0.],\n",
              "       [ 0.,  0., 13., 15., 10., 15.,  5.,  0.],\n",
              "       [ 0.,  3., 15.,  2.,  0., 11.,  8.,  0.],\n",
              "       [ 0.,  4., 12.,  0.,  0.,  8.,  8.,  0.],\n",
              "       [ 0.,  5.,  8.,  0.,  0.,  9.,  8.,  0.],\n",
              "       [ 0.,  4., 11.,  0.,  1., 12.,  7.,  0.],\n",
              "       [ 0.,  2., 14.,  5., 10., 12.,  0.,  0.],\n",
              "       [ 0.,  0.,  6., 13., 10.,  0.,  0.,  0.]])"
            ]
          },
          "metadata": {},
          "execution_count": 6
        }
      ]
    },
    {
      "cell_type": "markdown",
      "source": [
        "**Visualization of array**"
      ],
      "metadata": {
        "id": "Ut0DG2Du6h7h"
      }
    },
    {
      "cell_type": "code",
      "source": [
        "import matplotlib.pyplot as plt\n",
        "plt.imshow(digits.images[0], cmap=plt.cm.gray_r,\n",
        "interpolation='nearest')\n",
        "plt.title('Visualizing an array')"
      ],
      "metadata": {
        "colab": {
          "base_uri": "https://localhost:8080/",
          "height": 300
        },
        "id": "BN8ZcqIw6nkj",
        "outputId": "79d8910f-291b-4aea-c478-4748bcd9c4ff"
      },
      "execution_count": 7,
      "outputs": [
        {
          "output_type": "execute_result",
          "data": {
            "text/plain": [
              "Text(0.5, 1.0, 'Visualizing an array')"
            ]
          },
          "metadata": {},
          "execution_count": 7
        },
        {
          "output_type": "display_data",
          "data": {
            "text/plain": [
              "<Figure size 432x288 with 1 Axes>"
            ],
            "image/png": "[encoded data removed]"
          },
          "metadata": {
            "needs_background": "light"
          }
        }
      ]
    },
    {
      "cell_type": "markdown",
      "source": [
        "**Visualization of the 10 digits**"
      ],
      "metadata": {
        "id": "13eF3f1a6xDv"
      }
    },
    {
      "cell_type": "code",
      "source": [
        "import numpy as np \n",
        "plt.figure(figsize=(15,4))\n",
        "plt.subplots_adjust(hspace=0.8)\n",
        "images_and_labels = list(zip(digits.images, digits.target))\n",
        "\n",
        "for index, (image, label) in enumerate(images_and_labels[:10]):\n",
        "    plt.subplot(2, 5, index + 1)\n",
        "    plt.imshow(image, cmap=plt.cm.gray_r, interpolation='nearest')\n",
        "    plt.title('Training: %i' % label, fontsize =12)"
      ],
      "metadata": {
        "colab": {
          "base_uri": "https://localhost:8080/",
          "height": 281
        },
        "id": "9m7AafGT64hr",
        "outputId": "83c64c34-123c-4b13-f092-760147395cdb"
      },
      "execution_count": 8,
      "outputs": [
        {
          "output_type": "display_data",
          "data": {
            "text/plain": [
              "<Figure size 1080x288 with 10 Axes>"
            ],
            "image/png": "[encoded data removed]"
          },
          "metadata": {
            "needs_background": "light"
          }
        }
      ]
    },
    {
      "cell_type": "markdown",
      "source": [
        "**Flatten the input images**"
      ],
      "metadata": {
        "id": "qgPKchXS6_Xe"
      }
    },
    {
      "cell_type": "code",
      "source": [
        "n = len(digits.images)\n",
        "print(n)\n",
        "data = digits.images.reshape((n, -1))"
      ],
      "metadata": {
        "colab": {
          "base_uri": "https://localhost:8080/"
        },
        "id": "TctMReI_7AZ_",
        "outputId": "86f836da-210e-4800-be22-98e224a2e88f"
      },
      "execution_count": 9,
      "outputs": [
        {
          "output_type": "stream",
          "name": "stdout",
          "text": [
            "1797\n"
          ]
        }
      ]
    },
    {
      "cell_type": "markdown",
      "source": [
        "**Define the Model**"
      ],
      "metadata": {
        "id": "Jf1J21va7GFO"
      }
    },
    {
      "cell_type": "code",
      "source": [
        "#Import svm model \n",
        "from sklearn import svm  \n",
        "#Create a svm Classifier\n",
        "svc = svm.SVC(gamma=0.001, C=100.)"
      ],
      "metadata": {
        "id": "KQyXyVUO7Mw0"
      },
      "execution_count": 10,
      "outputs": []
    },
    {
      "cell_type": "markdown",
      "source": [
        "**Split the Dataset**"
      ],
      "metadata": {
        "id": "4TQ_CB0b7SKh"
      }
    },
    {
      "cell_type": "code",
      "source": [
        "from sklearn.model_selection import train_test_split\n",
        "x_train, x_test, y_train, y_test = train_test_split(data, digits.target, test_size=0.01, random_state=0)"
      ],
      "metadata": {
        "id": "A-Mcvva67TVh"
      },
      "execution_count": 11,
      "outputs": []
    },
    {
      "cell_type": "markdown",
      "source": [
        "**Train the model**\n",
        "\n",
        "We can train the svc estimator that we defined earlier using the fit() function.\n"
      ],
      "metadata": {
        "id": "a0i5vaCd7bBG"
      }
    },
    {
      "cell_type": "code",
      "source": [
        "svc.fit(x_train, y_train)"
      ],
      "metadata": {
        "colab": {
          "base_uri": "https://localhost:8080/"
        },
        "id": "TIy_eLqL7cKu",
        "outputId": "bb0cf891-3e16-406c-d506-b892d2c299fa"
      },
      "execution_count": 12,
      "outputs": [
        {
          "output_type": "execute_result",
          "data": {
            "text/plain": [
              "SVC(C=100.0, gamma=0.001)"
            ]
          },
          "metadata": {},
          "execution_count": 12
        }
      ]
    },
    {
      "cell_type": "markdown",
      "source": [
        "**Testing the mode**"
      ],
      "metadata": {
        "id": "fStHLzUn72y9"
      }
    },
    {
      "cell_type": "code",
      "source": [
        "y_pred = svc.predict(x_test)\n",
        "y_pred"
      ],
      "metadata": {
        "colab": {
          "base_uri": "https://localhost:8080/"
        },
        "id": "lfPw59Bz78HI",
        "outputId": "4e1682fd-9a27-48db-cc6f-c5b9683cc57d"
      },
      "execution_count": 13,
      "outputs": [
        {
          "output_type": "execute_result",
          "data": {
            "text/plain": [
              "array([2, 8, 2, 6, 6, 7, 1, 9, 8, 5, 2, 8, 6, 6, 6, 6, 1, 0])"
            ]
          },
          "metadata": {},
          "execution_count": 13
        }
      ]
    },
    {
      "cell_type": "markdown",
      "source": [
        "We obtain the results in the form of an array."
      ],
      "metadata": {
        "id": "cVgTTEpf8CaO"
      }
    },
    {
      "cell_type": "markdown",
      "source": [
        "**Visualize the test images**"
      ],
      "metadata": {
        "id": "nro0HxNV8FLJ"
      }
    },
    {
      "cell_type": "code",
      "source": [
        "images_and_predictions = list(zip(x_test,y_pred))\n",
        "\n",
        "plt.figure(figsize=(18,5))\n",
        "for index, (image, prediction) in enumerate(images_and_predictions[:19]):\n",
        "    plt.subplot(2, 9, index + 1)\n",
        "    image = image.reshape(8, 8)\n",
        "    plt.imshow(image, cmap=plt.cm.gray_r, interpolation='nearest')\n",
        "    plt.title('Prediction: %i' % prediction)\n",
        "\n",
        "# save the figure\n",
        "plt.savefig('plot3.png', dpi=300, bbox_inches='tight')"
      ],
      "metadata": {
        "colab": {
          "base_uri": "https://localhost:8080/",
          "height": 306
        },
        "id": "7ZjIzRlq8GxJ",
        "outputId": "188d190b-8cf7-49e9-cced-f8debef8e0bc"
      },
      "execution_count": 14,
      "outputs": [
        {
          "output_type": "display_data",
          "data": {
            "text/plain": [
              "<Figure size 1296x360 with 18 Axes>"
            ],
            "image/png": "[encoded data removed]"
          },
          "metadata": {
            "needs_background": "light"
          }
        }
      ]
    },
    {
      "cell_type": "markdown",
      "source": [
        "It is able to recognize the handwritten digits and interprete all the digits of the validation set correctly."
      ],
      "metadata": {
        "id": "MvcQI8Tr8Oyf"
      }
    },
    {
      "cell_type": "markdown",
      "source": [
        "**Accuracy of the model**"
      ],
      "metadata": {
        "id": "BAVCgSgq8RFj"
      }
    },
    {
      "cell_type": "code",
      "source": [
        "score = svc.score(x_test, y_test)"
      ],
      "metadata": {
        "id": "G_6rs2Ks8Sh4"
      },
      "execution_count": 15,
      "outputs": []
    },
    {
      "cell_type": "markdown",
      "source": [
        "**Confusion matrix and Classification report of the model**\n",
        "\n",
        "A Classification report is used to measure the quality of predictions from a classification algorithm."
      ],
      "metadata": {
        "id": "dzsTUuBX8Zov"
      }
    },
    {
      "cell_type": "code",
      "source": [
        "#For Confusion Matrix\n",
        "from sklearn.metrics import confusion_matrix\n",
        "import pandas as pd\n",
        "import seaborn as sn\n",
        "\n",
        "data = confusion_matrix(y_test, y_pred)\n",
        "df_cm = pd.DataFrame(data, columns=np.unique(y_test), index = np.unique(y_test))\n",
        "df_cm.index.name = 'Actual'\n",
        "df_cm.columns.name = 'Predicted'\n",
        "\n",
        "plt.figure(figsize = (10,10))\n",
        "sn.set(font_scale=1.4)#for label size\n",
        "plt.title('Confusion Matrix')\n",
        "sn.heatmap(df_cm, annot=True,annot_kws={\"size\": 12})# font size\n",
        "\n",
        "#For Classification Report\n",
        "\n",
        "from sklearn.metrics import classification_report\n",
        "cr=classification_report(y_test, y_pred)\n",
        "print(\"Classification report for SVM classifier:\\n\\n\",cr)"
      ],
      "metadata": {
        "colab": {
          "base_uri": "https://localhost:8080/",
          "height": 954
        },
        "id": "ShlTYrCp8edW",
        "outputId": "5a35a4e5-26a7-4dec-d70f-76154551d5eb"
      },
      "execution_count": 16,
      "outputs": [
        {
          "output_type": "stream",
          "name": "stdout",
          "text": [
            "Classification report for SVM classifier:\n",
            "\n",
            "               precision    recall  f1-score   support\n",
            "\n",
            "           0       1.00      1.00      1.00         1\n",
            "           1       1.00      1.00      1.00         2\n",
            "           2       1.00      1.00      1.00         3\n",
            "           5       1.00      1.00      1.00         1\n",
            "           6       1.00      1.00      1.00         6\n",
            "           7       1.00      1.00      1.00         1\n",
            "           8       1.00      1.00      1.00         3\n",
            "           9       1.00      1.00      1.00         1\n",
            "\n",
            "    accuracy                           1.00        18\n",
            "   macro avg       1.00      1.00      1.00        18\n",
            "weighted avg       1.00      1.00      1.00        18\n",
            "\n"
          ]
        },
        {
          "output_type": "display_data",
          "data": {
            "text/plain": [
              "<Figure size 720x720 with 2 Axes>"
            ],
            "image/png": "[encoded data removed]"
          },
          "metadata": {
            "needs_background": "light"
          }
        }
      ]
    },
    {
      "cell_type": "markdown",
      "source": [
        "#Conclusion"
      ],
      "metadata": {
        "id": "sYxUYKCm8pa6"
      }
    },
    {
      "cell_type": "markdown",
      "source": [
        "**Given the large number of elements contained in the Digits dataset, we will certainly obtain a very effective model, i.e., one that’s capable of recognizing with good certainty.**"
      ],
      "metadata": {
        "id": "JyDUwUHF8tCq"
      }
    },
    {
      "cell_type": "markdown",
      "source": [
        "We test the hypothesis by using these cases, each case for a different range of training and validation sets."
      ],
      "metadata": {
        "id": "v6BTZsPL87jZ"
      }
    },
    {
      "cell_type": "markdown",
      "source": [
        "![1_hm1alk1nK3GpKjjKKP7p_w.png](data:image/png;base64,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)"
      ],
      "metadata": {
        "id": "2Nv2Ib_h9CnK"
      }
    },
    {
      "cell_type": "markdown",
      "source": [
        "After performing the data analysis on the dataset with three different test cases, we can conclude that the given hypothesis is true i.e., the model predicts the digit accurately 95% of the times."
      ],
      "metadata": {
        "id": "BmjGyr4y9GbR"
      }
    }
  ]
}